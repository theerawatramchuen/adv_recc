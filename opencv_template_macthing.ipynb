{
 "cells": [
  {
   "cell_type": "raw",
   "id": "832167b3-2e63-48f4-ae19-3bb611b84b2e",
   "metadata": {},
   "source": [
    "prompt:\n",
    "write me python code do to template matching with opencv library as below steps.\n",
    "1. find image type jpg in specific target folder that match with provided \"template.jpg\" \n",
    "2. copy matched images files to output folder.\n",
    "3. Summary report of operation when done."
   ]
  },
  {
   "cell_type": "raw",
   "id": "d7cc1b6f-c2a4-4ecb-bac7-cb60123aab8f",
   "metadata": {},
   "source": [
    "claude-3-haiku-20240307:\n",
    "Here's a Python script that performs the template matching task you described using the OpenCV library:\n",
    "\n",
    "\n",
    "import os\n",
    "import shutil\n",
    "import cv2\n",
    "\n",
    "# Set the paths\n",
    "template_path = 'path/to/template.jpg'\n",
    "target_folder = 'path/to/target/folder'\n",
    "output_folder = 'path/to/output/folder'\n",
    "\n",
    "# Load the template image\n",
    "template = cv2.imread(template_path, cv2.IMREAD_GRAYSCALE)\n",
    "template_height, template_width = template.shape[:2]\n",
    "\n",
    "# Initialize the counters\n",
    "total_files = 0\n",
    "matched_files = 0\n",
    "\n",
    "# Iterate over the files in the target folder\n",
    "for filename in os.listdir(target_folder):\n",
    "    if filename.endswith('.jpg'):\n",
    "        total_files += 1\n",
    "        \n",
    "        # Load the target image\n",
    "        target_path = os.path.join(target_folder, filename)\n",
    "        target = cv2.imread(target_path, cv2.IMREAD_GRAYSCALE)\n",
    "        \n",
    "        # Perform template matching\n",
    "        result = cv2.matchTemplate(target, template, cv2.TM_CCOEFF_NORMED)\n",
    "        min_val, max_val, min_loc, max_loc = cv2.minMaxLoc(result)\n",
    "        \n",
    "        # Check if the template is found in the target image\n",
    "        if max_val >= 0.95:  # Adjust the threshold as needed\n",
    "            matched_files += 1\n",
    "            \n",
    "            # Copy the matched file to the output folder\n",
    "            output_path = os.path.join(output_folder, filename)\n",
    "            shutil.copy(target_path, output_path)\n",
    "\n",
    "            # Display the matched file name and its max_val\n",
    "            print(f\"Matched file: {filename} - Max correlation value: {max_val:.2f}\")\n",
    "\n",
    "# Print the summary report\n",
    "print(f\"Total files processed: {total_files}\")\n",
    "print(f\"Matched files: {matched_files}\")\n",
    "print(f\"Copied files to output folder: {matched_files}\")\n",
    "\n",
    "Here's a breakdown of the code:\n",
    "\n",
    "1 Set the paths for the template image, target folder, and output folder.\n",
    "2 Load the template image and convert it to grayscale.\n",
    "3 Initialize the counters for total files and matched files.\n",
    "4 Iterate through the files in the target folder that have a .jpg extension.\n",
    "5 For each file, read the image and convert it to grayscale.\n",
    "6 Perform template matching using the cv2.matchTemplate() function. The cv2.TM_CCOEFF_NORMED method is used, which computes the normalized cross-7   correlation between the template and the image.\n",
    "7 Check if the maximum correlation value is above the specified threshold (0.8 in this case). If so, the file is considered a match and is copied to the output folder using shutil.copy().\n",
    "8 Update the counters and print the summary report at the end.\n",
    "Make sure to replace 'path/to/template.jpg', 'path/to/target/folder', and 'path/to/output/folder' with the actual paths to your files and folders.\n",
    "\n",
    "Note that the template matching algorithm may not work perfectly in all cases, as it depends on the complexity of the images and the quality of the template. You may need to adjust the threshold value or experiment with other template matching methods to achieve better results."
   ]
  },
  {
   "cell_type": "code",
   "execution_count": 1,
   "id": "0831295d-23bb-4b43-8175-c377337481af",
   "metadata": {},
   "outputs": [],
   "source": [
    "import os\n",
    "import shutil\n",
    "import cv2\n",
    "\n",
    "# Set the paths\n",
    "template_path = 'recc_vlog2_v2/act_g0013/act_g0013.jpg'\n",
    "target_folder = 'recc_vlog'\n",
    "output_folder = 'recc_vlog2_v2/act_g0013'"
   ]
  },
  {
   "cell_type": "code",
   "execution_count": 2,
   "id": "cbfe26a7-2141-4a15-a726-4883aeb6eb76",
   "metadata": {},
   "outputs": [],
   "source": [
    "# Load the template image\n",
    "template = cv2.imread(template_path, cv2.IMREAD_GRAYSCALE)\n",
    "template_height, template_width = template.shape[:2]"
   ]
  },
  {
   "cell_type": "code",
   "execution_count": 3,
   "id": "24ec397c-4644-4635-bc84-3bdff3830814",
   "metadata": {},
   "outputs": [],
   "source": [
    "# Initialize the counters\n",
    "total_files = 0\n",
    "matched_files = 0"
   ]
  },
  {
   "cell_type": "code",
   "execution_count": 4,
   "id": "33fb76e1-d2c0-4b9e-86ff-e2523e99e1e0",
   "metadata": {},
   "outputs": [
    {
     "name": "stdout",
     "output_type": "stream",
     "text": [
      "Matched file: frame_273.jpg - Max correlation value: 1.00\n",
      "Matched file: frame_274.jpg - Max correlation value: 1.00\n",
      "Matched file: frame_275.jpg - Max correlation value: 1.00\n",
      "Matched file: frame_276.jpg - Max correlation value: 1.00\n",
      "Matched file: frame_375.jpg - Max correlation value: 1.00\n",
      "Matched file: frame_376.jpg - Max correlation value: 1.00\n",
      "Matched file: frame_377.jpg - Max correlation value: 1.00\n",
      "Matched file: frame_378.jpg - Max correlation value: 1.00\n",
      "Total files processed: 378\n",
      "Matched files: 8\n",
      "Copied files to output folder: 8\n"
     ]
    }
   ],
   "source": [
    "# Iterate over the files in the target folder\n",
    "for filename in os.listdir(target_folder):\n",
    "    if filename.endswith('.jpg'):\n",
    "        total_files += 1\n",
    "        \n",
    "        # Load the target image\n",
    "        target_path = os.path.join(target_folder, filename)\n",
    "        target = cv2.imread(target_path, cv2.IMREAD_GRAYSCALE)\n",
    "        \n",
    "        # Perform template matching\n",
    "        result = cv2.matchTemplate(target, template, cv2.TM_CCOEFF_NORMED)\n",
    "        min_val, max_val, min_loc, max_loc = cv2.minMaxLoc(result)\n",
    "        \n",
    "        # Check if the template is found in the target image\n",
    "        if max_val >= 0.95:  # Adjust the threshold as needed\n",
    "            matched_files += 1\n",
    "            \n",
    "            # Copy the matched file to the output folder\n",
    "            output_path = os.path.join(output_folder, filename)\n",
    "            shutil.copy(target_path, output_path)\n",
    "\n",
    "            # Display the matched file name and its max_val\n",
    "            print(f\"Matched file: {filename} - Max correlation value: {max_val:.2f}\")\n",
    "\n",
    "# Print the summary report\n",
    "print(f\"Total files processed: {total_files}\")\n",
    "print(f\"Matched files: {matched_files}\")\n",
    "print(f\"Copied files to output folder: {matched_files}\")"
   ]
  },
  {
   "cell_type": "code",
   "execution_count": null,
   "id": "a9757abb-eb4a-40bd-a329-0214ae55c9a0",
   "metadata": {},
   "outputs": [],
   "source": []
  }
 ],
 "metadata": {
  "kernelspec": {
   "display_name": "Python 3 (ipykernel)",
   "language": "python",
   "name": "python3"
  },
  "language_info": {
   "codemirror_mode": {
    "name": "ipython",
    "version": 3
   },
   "file_extension": ".py",
   "mimetype": "text/x-python",
   "name": "python",
   "nbconvert_exporter": "python",
   "pygments_lexer": "ipython3",
   "version": "3.8.19"
  }
 },
 "nbformat": 4,
 "nbformat_minor": 5
}
