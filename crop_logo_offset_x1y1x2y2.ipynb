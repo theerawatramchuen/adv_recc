{
 "cells": [
  {
   "cell_type": "code",
   "execution_count": 1,
   "id": "addccb1f-132f-450e-a071-e9c147c5f63f",
   "metadata": {},
   "outputs": [],
   "source": [
    "import cv2\n",
    "import numpy as np"
   ]
  },
  {
   "cell_type": "code",
   "execution_count": 2,
   "id": "75277cf4-4ba2-4701-b1e2-bd04cd416046",
   "metadata": {},
   "outputs": [],
   "source": [
    "def crop_image(original_image, logo_template, x1, y1, x2, y2):\n",
    "    \"\"\"\n",
    "    Crops an image based on the given bounding box coordinates, with an offset\n",
    "    based on the center of the logo template.\n",
    "\n",
    "    Args:\n",
    "        original_image (numpy.ndarray): The input image in OpenCV format.\n",
    "        logo_template (numpy.ndarray): The input image in OpenCV format.\n",
    "        x1 (int): The x-coordinate of the top-left corner of the bounding box.\n",
    "        y1 (int): The y-coordinate of the top-left corner of the bounding box.\n",
    "        x2 (int): The x-coordinate of the bottom-right corner of the bounding box.\n",
    "        y2 (int): The y-coordinate of the bottom-right corner of the bounding box.\n",
    "\n",
    "    Returns:\n",
    "        numpy.ndarray: The cropped image with the offset based on the center of the logo template.\n",
    "    \"\"\"\n",
    "    # Perform template matching\n",
    "    result = cv2.matchTemplate(original_image, logo_template, cv2.TM_CCOEFF_NORMED)\n",
    "    min_val, max_val, min_loc, max_loc = cv2.minMaxLoc(result)\n",
    "    # print(min_val, max_val, min_loc, max_loc)\n",
    "\n",
    "    # Calculate final crop coordinate pairs with offset the Disco logo template matching\n",
    "    y1 = y1 + max_loc[1] - 20\n",
    "    y2 = y2 + y1\n",
    "    x1 = x1 + max_loc[0] - 15\n",
    "    x2 = x2 + x1\n",
    "\n",
    "    # Crop the original image based on the provided bounding box coordinates\n",
    "    cropped_image = original_image[y1:y2, x1:x2]\n",
    "\n",
    "    return cropped_image"
   ]
  },
  {
   "cell_type": "code",
   "execution_count": 4,
   "id": "c843acc8-92d8-40b4-8e16-23b3de6a0a5f",
   "metadata": {},
   "outputs": [],
   "source": [
    "# Load the original image and the logo template\n",
    "original_image = cv2.imread('frame_377.jpg')\n",
    "logo_template = cv2.imread('disco_logo.jpg')\n",
    "\n",
    "# Call the crop_image function  #255,130,255+1024,130+768\n",
    "x1 = 0\n",
    "y1 = 0\n",
    "x2 = 1024\n",
    "y2 = 768\n",
    "cropped_image = crop_image(original_image, logo_template, x1, y1, x2, y2)\n",
    "\n",
    "# Display the cropped image\n",
    "cv2.imshow('Cropped Image', cropped_image)\n",
    "cv2.waitKey(0)\n",
    "cv2.destroyAllWindows()"
   ]
  },
  {
   "cell_type": "raw",
   "id": "499b2514-7d88-4574-ae17-e2aec8f4e9c0",
   "metadata": {},
   "source": [
    "-0.40166017413139343 0.9908418655395508 (571, 282) (266, 143)   frame_6.jpg\n",
    "-0.40288129448890686 0.9927984476089478 (427, 222) (122, 83)    frame_test.jpg"
   ]
  }
 ],
 "metadata": {
  "kernelspec": {
   "display_name": "Python 3 (ipykernel)",
   "language": "python",
   "name": "python3"
  },
  "language_info": {
   "codemirror_mode": {
    "name": "ipython",
    "version": 3
   },
   "file_extension": ".py",
   "mimetype": "text/x-python",
   "name": "python",
   "nbconvert_exporter": "python",
   "pygments_lexer": "ipython3",
   "version": "3.8.19"
  }
 },
 "nbformat": 4,
 "nbformat_minor": 5
}
