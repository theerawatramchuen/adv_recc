{
 "cells": [
  {
   "cell_type": "code",
   "execution_count": 35,
   "id": "0831295d-23bb-4b43-8175-c377337481af",
   "metadata": {},
   "outputs": [],
   "source": [
    "import os\n",
    "import shutil\n",
    "import cv2\n",
    "from tqdm import tqdm\n",
    "\n",
    "# Set the paths\n",
    "mp4_path = '_mp4'\n",
    "\n",
    "# Set temporary folder\n",
    "target_folder = 'vid2img'\n",
    "\n",
    "# Set Disco logo template\n",
    "logo_template_org = cv2.imread('disco_logo.jpg')\n",
    "logo_template = cv2.cvtColor(logo_template_org, cv2.COLOR_BGR2GRAY)"
   ]
  },
  {
   "cell_type": "code",
   "execution_count": 36,
   "id": "7f189c3f-ca8c-46c0-bec7-27ad410a02dc",
   "metadata": {},
   "outputs": [],
   "source": [
    "def crop_image(original_image, logo_template, x1, y1, x2, y2):\n",
    "    \"\"\"\n",
    "    Crops an image based on the given bounding box coordinates, with an offset\n",
    "    based on the center of the logo template.\n",
    "\n",
    "    Args:\n",
    "        original_image (numpy.ndarray): The input image in OpenCV format.\n",
    "        logo_template (numpy.ndarray): The input image in OpenCV format.\n",
    "        x1 (int): The x-coordinate of the top-left corner of the bounding box.\n",
    "        y1 (int): The y-coordinate of the top-left corner of the bounding box.\n",
    "        x2 (int): The x-coordinate of the bottom-right corner of the bounding box.\n",
    "        y2 (int): The y-coordinate of the bottom-right corner of the bounding box.\n",
    "\n",
    "    Returns:\n",
    "        numpy.ndarray: The cropped image with the offset based on the center of the logo template.\n",
    "    \"\"\"\n",
    "    input_image_gray = cv2.cvtColor(original_image, cv2.COLOR_BGR2GRAY)\n",
    "    \n",
    "    # Perform template matching\n",
    "    result = cv2.matchTemplate(input_image_gray, logo_template, cv2.TM_CCOEFF_NORMED)\n",
    "    min_val, max_val, min_loc, max_loc = cv2.minMaxLoc(result)\n",
    "    # print(min_val, max_val, min_loc, max_loc)\n",
    "\n",
    "    # Calculate final crop coordinate pairs with offset the Disco logo template matching\n",
    "    y1 = y1 + max_loc[1] - 20\n",
    "    y2 = y2 + y1\n",
    "    x1 = x1 + max_loc[0] - 15\n",
    "    x2 = x2 + x1\n",
    "\n",
    "    # Crop the original image based on the provided bounding box coordinates\n",
    "    cropped_image = original_image[y1:y2, x1:x2]\n",
    "\n",
    "    return cropped_image\n",
    "\n",
    "def convert_video_to_images(video_file, output_folder, save_every_n_frames):\n",
    "    # Open the video file\n",
    "    video = cv2.VideoCapture(video_file)\n",
    "\n",
    "    mp4_fn = os.path.basename(video_file)\n",
    "    mp4_fn = mp4_fn.replace(\".\",\"_\")\n",
    "    # print (mp4_fn)\n",
    "\n",
    "    # Get the total number of frames in the video\n",
    "    total_frames = int(video.get(cv2.CAP_PROP_FRAME_COUNT))\n",
    "\n",
    "    # Loop through the frames of the video\n",
    "    for frame_num in range(total_frames):\n",
    "        # Read the next frame of the video\n",
    "        ret, frame = video.read()\n",
    "        if frame is not None:\n",
    "            frame_cropped = crop_image(frame,logo_template,0,0,1024,768)  #Screen Capture only Disco machine GUI\n",
    "\n",
    "        # Check if the frame was successfully read\n",
    "        if not ret:\n",
    "            break\n",
    "\n",
    "        # Check if we should save this frame as an image\n",
    "        if frame_num % save_every_n_frames == 0:\n",
    "            # Check if frame_cropped is not None\n",
    "            #if frame_cropped is not None:\n",
    "                # Convert the frame to JPG format\n",
    "                #jpg_frame = cv2.imwrite(f\"{output_folder}/{mp4_fn}_{frame_num}.jpg\", frame_cropped)\n",
    "\n",
    "                # Check if the frame was successfully saved as an image\n",
    "                #if not jpg_frame:\n",
    "                #    print(f\"Failed to save frame {frame_num} as an image.\")\n",
    "                    \n",
    "            if frame_cropped is not None and frame_cropped.shape[0] > 0 and frame_cropped.shape[1] > 0:\n",
    "                # Convert the frame to JPG format\n",
    "                jpg_frame = cv2.imwrite(f\"{output_folder}/{mp4_fn}_{frame_num}.jpg\", frame_cropped)\n",
    "                \n",
    "                # Check if the frame was successfully saved as an image\n",
    "                if not jpg_frame:\n",
    "                    print(f\"Error saving frame {mp4_fn}_{frame_num}\")\n",
    "            else:\n",
    "                print(f\"Failed to crop frame {mp4_fn}_{frame_num}.\")\n",
    "\n",
    "    # Release the video file\n",
    "    video.release()"
   ]
  },
  {
   "cell_type": "raw",
   "id": "722d0295-b6b0-4670-bfdd-0f085af64d82",
   "metadata": {},
   "source": [
    "# Example usage convert mp4 to image\n",
    "convert_video_to_images(mp4_path, target_folder, 1)"
   ]
  },
  {
   "cell_type": "code",
   "execution_count": 37,
   "id": "314a2f96-87d3-4022-87ff-c649973a52f3",
   "metadata": {},
   "outputs": [
    {
     "name": "stderr",
     "output_type": "stream",
     "text": [
      "Processing Files:   0%|                                                                      | 0/102 [00:00<?, ?file/s]"
     ]
    },
    {
     "name": "stdout",
     "output_type": "stream",
     "text": [
      "Failed to crop frame 2024-02-29-00-19-31_TSWD185_434267_0.\n"
     ]
    },
    {
     "name": "stderr",
     "output_type": "stream",
     "text": [
      "Processing Files:  17%|██████████▏                                                  | 17/102 [03:56<17:50, 12.59s/file]"
     ]
    },
    {
     "name": "stdout",
     "output_type": "stream",
     "text": [
      "Failed to crop frame 2024-02-29-05-11-31_TSWD186_446667_1.\n",
      "Failed to crop frame 2024-02-29-05-11-31_TSWD186_446667_2.\n",
      "Failed to crop frame 2024-02-29-05-11-31_TSWD186_446667_3.\n",
      "Failed to crop frame 2024-02-29-05-11-31_TSWD186_446667_4.\n",
      "Failed to crop frame 2024-02-29-05-11-31_TSWD186_446667_5.\n"
     ]
    },
    {
     "name": "stderr",
     "output_type": "stream",
     "text": [
      "Processing Files:  34%|████████████████████▉                                        | 35/102 [09:10<14:43, 13.19s/file]"
     ]
    },
    {
     "name": "stdout",
     "output_type": "stream",
     "text": [
      "Failed to crop frame 2024-02-29-07-08-42_TSWD186_474823_0.\n",
      "Failed to crop frame 2024-02-29-07-08-42_TSWD186_474823_1.\n",
      "Failed to crop frame 2024-02-29-07-08-42_TSWD186_474823_2.\n",
      "Failed to crop frame 2024-02-29-07-08-42_TSWD186_474823_3.\n",
      "Failed to crop frame 2024-02-29-07-08-42_TSWD186_474823_4.\n"
     ]
    },
    {
     "name": "stderr",
     "output_type": "stream",
     "text": [
      "Processing Files:  43%|██████████████████████████▎                                  | 44/102 [11:46<20:02, 20.74s/file]"
     ]
    },
    {
     "name": "stdout",
     "output_type": "stream",
     "text": [
      "Failed to crop frame 2024-02-29-09-11-10_TSWD186_433709_0.\n"
     ]
    },
    {
     "name": "stderr",
     "output_type": "stream",
     "text": [
      "Processing Files:  44%|██████████████████████████▉                                  | 45/102 [11:53<15:42, 16.54s/file]"
     ]
    },
    {
     "name": "stdout",
     "output_type": "stream",
     "text": [
      "Failed to crop frame 2024-02-29-09-26-32_TSWD187_433709_0.\n"
     ]
    },
    {
     "name": "stderr",
     "output_type": "stream",
     "text": [
      "Processing Files:  53%|████████████████████████████████▎                            | 54/102 [14:17<12:11, 15.23s/file]"
     ]
    },
    {
     "name": "stdout",
     "output_type": "stream",
     "text": [
      "Failed to crop frame 2024-02-29-11-20-53_TSWD186_470874_0.\n"
     ]
    },
    {
     "name": "stderr",
     "output_type": "stream",
     "text": [
      "Processing Files:  58%|███████████████████████████████████▎                         | 59/102 [14:55<06:44,  9.40s/file]"
     ]
    },
    {
     "name": "stdout",
     "output_type": "stream",
     "text": [
      "Failed to crop frame 2024-02-29-13-05-16_TSWD186_474823_1.\n",
      "Failed to crop frame 2024-02-29-13-05-16_TSWD186_474823_2.\n",
      "Failed to crop frame 2024-02-29-13-05-16_TSWD186_474823_3.\n",
      "Failed to crop frame 2024-02-29-13-05-16_TSWD186_474823_4.\n",
      "Failed to crop frame 2024-02-29-13-05-16_TSWD186_474823_5.\n",
      "Failed to crop frame 2024-02-29-13-05-16_TSWD186_474823_49.\n",
      "Failed to crop frame 2024-02-29-13-05-16_TSWD186_474823_50.\n"
     ]
    },
    {
     "name": "stderr",
     "output_type": "stream",
     "text": [
      "Processing Files:  62%|█████████████████████████████████████▋                       | 63/102 [15:22<04:52,  7.49s/file]"
     ]
    },
    {
     "name": "stdout",
     "output_type": "stream",
     "text": [
      "Failed to crop frame 2024-02-29-13-48-05_TSWD186_474823_0.\n"
     ]
    },
    {
     "name": "stderr",
     "output_type": "stream",
     "text": [
      "Processing Files:  63%|██████████████████████████████████████▎                      | 64/102 [15:26<04:11,  6.62s/file]"
     ]
    },
    {
     "name": "stdout",
     "output_type": "stream",
     "text": [
      "Failed to crop frame 2024-02-29-13-51-38_TSWD186_474823_0.\n"
     ]
    },
    {
     "name": "stderr",
     "output_type": "stream",
     "text": [
      "Processing Files:  70%|██████████████████████████████████████████▍                  | 71/102 [16:14<03:38,  7.05s/file]"
     ]
    },
    {
     "name": "stdout",
     "output_type": "stream",
     "text": [
      "Failed to crop frame 2024-02-29-14-55-41_TSWD186_474823_1.\n",
      "Failed to crop frame 2024-02-29-14-55-41_TSWD186_474823_2.\n",
      "Failed to crop frame 2024-02-29-14-55-41_TSWD186_474823_3.\n"
     ]
    },
    {
     "name": "stderr",
     "output_type": "stream",
     "text": [
      "Processing Files:  76%|██████████████████████████████████████████████▋              | 78/102 [17:36<06:05, 15.25s/file]"
     ]
    },
    {
     "name": "stdout",
     "output_type": "stream",
     "text": [
      "Failed to crop frame 2024-02-29-15-47-14_TSWD186_433709_0.\n"
     ]
    },
    {
     "name": "stderr",
     "output_type": "stream",
     "text": [
      "Processing Files:  80%|█████████████████████████████████████████████████            | 82/102 [18:22<03:59, 11.95s/file]"
     ]
    },
    {
     "name": "stdout",
     "output_type": "stream",
     "text": [
      "Failed to crop frame 2024-02-29-18-05-22_TSWD187_474823_1.\n",
      "Failed to crop frame 2024-02-29-18-05-22_TSWD187_474823_2.\n",
      "Failed to crop frame 2024-02-29-18-05-22_TSWD187_474823_3.\n",
      "Failed to crop frame 2024-02-29-18-05-22_TSWD187_474823_4.\n",
      "Failed to crop frame 2024-02-29-18-05-22_TSWD187_474823_49.\n",
      "Failed to crop frame 2024-02-29-18-05-22_TSWD187_474823_87.\n"
     ]
    },
    {
     "name": "stderr",
     "output_type": "stream",
     "text": [
      "Processing Files:  81%|█████████████████████████████████████████████████▋           | 83/102 [18:30<03:25, 10.82s/file]"
     ]
    },
    {
     "name": "stdout",
     "output_type": "stream",
     "text": [
      "Failed to crop frame 2024-02-29-19-11-35_TSWD187_434267_3.\n",
      "Failed to crop frame 2024-02-29-19-11-35_TSWD187_434267_4.\n"
     ]
    },
    {
     "name": "stderr",
     "output_type": "stream",
     "text": [
      "Processing Files:  84%|███████████████████████████████████████████████████▍         | 86/102 [19:08<03:18, 12.40s/file]"
     ]
    },
    {
     "name": "stdout",
     "output_type": "stream",
     "text": [
      "Failed to crop frame 2024-02-29-20-47-42_TSWD187_434267_0.\n"
     ]
    },
    {
     "name": "stderr",
     "output_type": "stream",
     "text": [
      "Processing Files:  97%|███████████████████████████████████████████████████████████▏ | 99/102 [21:15<00:22,  7.56s/file]"
     ]
    },
    {
     "name": "stdout",
     "output_type": "stream",
     "text": [
      "Failed to crop frame 2024-03-01-08-32-15_TSWD185_474823_mp4_1.\n",
      "Failed to crop frame 2024-03-01-08-32-15_TSWD185_474823_mp4_2.\n",
      "Failed to crop frame 2024-03-01-08-32-15_TSWD185_474823_mp4_3.\n",
      "Failed to crop frame 2024-03-01-08-32-15_TSWD185_474823_mp4_4.\n"
     ]
    },
    {
     "name": "stderr",
     "output_type": "stream",
     "text": [
      "Processing Files:  98%|██████████████████████████████████████████████████████████▊ | 100/102 [21:22<00:14,  7.40s/file]"
     ]
    },
    {
     "name": "stdout",
     "output_type": "stream",
     "text": [
      "Failed to crop frame 2024-03-01-08-39-47_TSWD185_474823_mp4_1.\n",
      "Failed to crop frame 2024-03-01-08-39-47_TSWD185_474823_mp4_2.\n",
      "Failed to crop frame 2024-03-01-08-39-47_TSWD185_474823_mp4_3.\n",
      "Failed to crop frame 2024-03-01-08-39-47_TSWD185_474823_mp4_4.\n",
      "Failed to crop frame 2024-03-01-08-39-47_TSWD185_474823_mp4_5.\n"
     ]
    },
    {
     "name": "stderr",
     "output_type": "stream",
     "text": [
      "Processing Files: 100%|████████████████████████████████████████████████████████████| 102/102 [22:00<00:00, 12.94s/file]"
     ]
    },
    {
     "name": "stdout",
     "output_type": "stream",
     "text": [
      "Processed 102 files out of 102 total files.\n"
     ]
    },
    {
     "name": "stderr",
     "output_type": "stream",
     "text": [
      "\n"
     ]
    }
   ],
   "source": [
    "def process_folder(folder_path):\n",
    "    num_files_processed = 0\n",
    "    num_files_total = sum(len(files) for _, _, files in os.walk(folder_path))\n",
    "    \n",
    "    # Initialize tqdm progress bar\n",
    "    progress_bar = tqdm(total=num_files_total, desc=\"Processing Files\", unit=\"file\")\n",
    "    \n",
    "    for root, _, files in os.walk(folder_path):\n",
    "        for file_name in files:\n",
    "            file_path = os.path.join(root, file_name)\n",
    "            convert_video_to_images(file_path, target_folder, 1) #convert_video_to_images(mp4_path, target_folder, 1)\n",
    "            num_files_processed += 1\n",
    "            # Update progress bar\n",
    "            progress_bar.update(1)\n",
    "    \n",
    "    # Close tqdm progress bar\n",
    "    progress_bar.close()\n",
    "    \n",
    "    # Summary report\n",
    "    print(f\"Processed {num_files_processed} files out of {num_files_total} total files.\")\n",
    "\n",
    "# Example usage:\n",
    "folder_to_process = mp4_path\n",
    "process_folder(folder_to_process)"
   ]
  },
  {
   "cell_type": "code",
   "execution_count": 43,
   "id": "f40e1f87-25ae-4f67-aedf-694aa43cc58f",
   "metadata": {},
   "outputs": [],
   "source": [
    "template_path = 'templates/alarm_k0038.jpg'\n",
    "output_folder = '_alarm_k0038'"
   ]
  },
  {
   "cell_type": "code",
   "execution_count": 44,
   "id": "cbfe26a7-2141-4a15-a726-4883aeb6eb76",
   "metadata": {},
   "outputs": [],
   "source": [
    "# Load the template image\n",
    "template = cv2.imread(template_path, cv2.IMREAD_GRAYSCALE)\n",
    "template_height, template_width = template.shape[:2]"
   ]
  },
  {
   "cell_type": "code",
   "execution_count": 45,
   "id": "24ec397c-4644-4635-bc84-3bdff3830814",
   "metadata": {},
   "outputs": [],
   "source": [
    "# Initialize the counters\n",
    "total_files = 0\n",
    "matched_files = 0"
   ]
  },
  {
   "cell_type": "code",
   "execution_count": 46,
   "id": "33fb76e1-d2c0-4b9e-86ff-e2523e99e1e0",
   "metadata": {},
   "outputs": [
    {
     "name": "stdout",
     "output_type": "stream",
     "text": [
      "Matched file: 2024-02-29-01-59-13_TSWD185_446667_10.jpg - Max correlation value: 0.99\n",
      "Matched file: 2024-02-29-01-59-13_TSWD185_446667_11.jpg - Max correlation value: 0.99\n",
      "Matched file: 2024-02-29-01-59-13_TSWD185_446667_12.jpg - Max correlation value: 0.99\n",
      "Matched file: 2024-02-29-01-59-13_TSWD185_446667_13.jpg - Max correlation value: 0.99\n",
      "Matched file: 2024-02-29-01-59-13_TSWD185_446667_14.jpg - Max correlation value: 0.99\n",
      "Matched file: 2024-02-29-01-59-13_TSWD185_446667_15.jpg - Max correlation value: 0.99\n",
      "Matched file: 2024-02-29-01-59-13_TSWD185_446667_16.jpg - Max correlation value: 0.99\n",
      "Matched file: 2024-02-29-01-59-13_TSWD185_446667_17.jpg - Max correlation value: 0.99\n",
      "Matched file: 2024-02-29-01-59-13_TSWD185_446667_18.jpg - Max correlation value: 0.99\n",
      "Matched file: 2024-02-29-01-59-13_TSWD185_446667_19.jpg - Max correlation value: 0.99\n",
      "Matched file: 2024-02-29-01-59-13_TSWD185_446667_20.jpg - Max correlation value: 0.99\n",
      "Matched file: 2024-02-29-01-59-13_TSWD185_446667_21.jpg - Max correlation value: 0.99\n",
      "Matched file: 2024-02-29-01-59-13_TSWD185_446667_22.jpg - Max correlation value: 0.99\n",
      "Matched file: 2024-02-29-01-59-13_TSWD185_446667_23.jpg - Max correlation value: 0.99\n",
      "Matched file: 2024-02-29-01-59-13_TSWD185_446667_24.jpg - Max correlation value: 0.99\n",
      "Matched file: 2024-02-29-01-59-13_TSWD185_446667_25.jpg - Max correlation value: 0.99\n",
      "Matched file: 2024-02-29-01-59-13_TSWD185_446667_26.jpg - Max correlation value: 0.99\n",
      "Matched file: 2024-02-29-01-59-13_TSWD185_446667_27.jpg - Max correlation value: 0.99\n",
      "Matched file: 2024-02-29-01-59-13_TSWD185_446667_28.jpg - Max correlation value: 0.99\n",
      "Matched file: 2024-02-29-01-59-13_TSWD185_446667_6.jpg - Max correlation value: 0.99\n",
      "Matched file: 2024-02-29-01-59-13_TSWD185_446667_7.jpg - Max correlation value: 0.99\n",
      "Matched file: 2024-02-29-01-59-13_TSWD185_446667_8.jpg - Max correlation value: 0.99\n",
      "Matched file: 2024-02-29-01-59-13_TSWD185_446667_9.jpg - Max correlation value: 0.99\n",
      "Matched file: 2024-02-29-03-43-31_TSWD186_446667_10.jpg - Max correlation value: 0.99\n",
      "Matched file: 2024-02-29-03-43-31_TSWD186_446667_11.jpg - Max correlation value: 0.99\n",
      "Matched file: 2024-02-29-03-43-31_TSWD186_446667_12.jpg - Max correlation value: 0.99\n",
      "Matched file: 2024-02-29-03-43-31_TSWD186_446667_13.jpg - Max correlation value: 0.99\n",
      "Matched file: 2024-02-29-03-43-31_TSWD186_446667_14.jpg - Max correlation value: 0.99\n",
      "Matched file: 2024-02-29-03-43-31_TSWD186_446667_15.jpg - Max correlation value: 0.99\n",
      "Matched file: 2024-02-29-03-43-31_TSWD186_446667_16.jpg - Max correlation value: 0.99\n",
      "Matched file: 2024-02-29-03-43-31_TSWD186_446667_17.jpg - Max correlation value: 0.99\n",
      "Matched file: 2024-02-29-03-43-31_TSWD186_446667_5.jpg - Max correlation value: 0.99\n",
      "Matched file: 2024-02-29-03-43-31_TSWD186_446667_6.jpg - Max correlation value: 0.99\n",
      "Matched file: 2024-02-29-03-43-31_TSWD186_446667_7.jpg - Max correlation value: 0.99\n",
      "Matched file: 2024-02-29-03-43-31_TSWD186_446667_8.jpg - Max correlation value: 0.99\n",
      "Matched file: 2024-02-29-03-43-31_TSWD186_446667_9.jpg - Max correlation value: 0.99\n",
      "Matched file: 2024-02-29-04-04-54_TSWD186_446667_10.jpg - Max correlation value: 0.99\n",
      "Matched file: 2024-02-29-04-04-54_TSWD186_446667_11.jpg - Max correlation value: 0.99\n",
      "Matched file: 2024-02-29-04-04-54_TSWD186_446667_12.jpg - Max correlation value: 0.99\n",
      "Matched file: 2024-02-29-04-04-54_TSWD186_446667_13.jpg - Max correlation value: 0.99\n",
      "Matched file: 2024-02-29-04-04-54_TSWD186_446667_14.jpg - Max correlation value: 0.99\n",
      "Matched file: 2024-02-29-04-04-54_TSWD186_446667_15.jpg - Max correlation value: 0.99\n",
      "Matched file: 2024-02-29-04-04-54_TSWD186_446667_16.jpg - Max correlation value: 0.99\n",
      "Matched file: 2024-02-29-04-04-54_TSWD186_446667_6.jpg - Max correlation value: 0.99\n",
      "Matched file: 2024-02-29-04-04-54_TSWD186_446667_7.jpg - Max correlation value: 0.99\n",
      "Matched file: 2024-02-29-04-04-54_TSWD186_446667_8.jpg - Max correlation value: 0.99\n",
      "Matched file: 2024-02-29-04-04-54_TSWD186_446667_9.jpg - Max correlation value: 0.99\n",
      "Matched file: 2024-02-29-04-12-40_TSWD186_446667_10.jpg - Max correlation value: 0.99\n",
      "Matched file: 2024-02-29-04-12-40_TSWD186_446667_11.jpg - Max correlation value: 0.99\n",
      "Matched file: 2024-02-29-04-12-40_TSWD186_446667_12.jpg - Max correlation value: 0.99\n",
      "Matched file: 2024-02-29-04-12-40_TSWD186_446667_13.jpg - Max correlation value: 0.99\n",
      "Matched file: 2024-02-29-04-12-40_TSWD186_446667_14.jpg - Max correlation value: 0.99\n",
      "Matched file: 2024-02-29-04-12-40_TSWD186_446667_15.jpg - Max correlation value: 0.99\n",
      "Matched file: 2024-02-29-04-12-40_TSWD186_446667_16.jpg - Max correlation value: 0.99\n",
      "Matched file: 2024-02-29-04-12-40_TSWD186_446667_17.jpg - Max correlation value: 0.99\n",
      "Matched file: 2024-02-29-04-12-40_TSWD186_446667_18.jpg - Max correlation value: 0.99\n",
      "Matched file: 2024-02-29-04-12-40_TSWD186_446667_19.jpg - Max correlation value: 0.99\n",
      "Matched file: 2024-02-29-04-12-40_TSWD186_446667_20.jpg - Max correlation value: 0.99\n",
      "Matched file: 2024-02-29-04-12-40_TSWD186_446667_21.jpg - Max correlation value: 0.99\n",
      "Matched file: 2024-02-29-04-12-40_TSWD186_446667_22.jpg - Max correlation value: 0.99\n",
      "Matched file: 2024-02-29-04-12-40_TSWD186_446667_6.jpg - Max correlation value: 0.99\n",
      "Matched file: 2024-02-29-04-12-40_TSWD186_446667_7.jpg - Max correlation value: 0.99\n",
      "Matched file: 2024-02-29-04-12-40_TSWD186_446667_8.jpg - Max correlation value: 0.99\n",
      "Matched file: 2024-02-29-04-12-40_TSWD186_446667_9.jpg - Max correlation value: 0.99\n",
      "Matched file: 2024-02-29-05-43-38_TSWD185_446667_10.jpg - Max correlation value: 0.99\n",
      "Matched file: 2024-02-29-05-43-38_TSWD185_446667_11.jpg - Max correlation value: 0.99\n",
      "Matched file: 2024-02-29-05-43-38_TSWD185_446667_12.jpg - Max correlation value: 0.99\n",
      "Matched file: 2024-02-29-05-43-38_TSWD185_446667_13.jpg - Max correlation value: 0.99\n",
      "Matched file: 2024-02-29-05-43-38_TSWD185_446667_14.jpg - Max correlation value: 0.99\n",
      "Matched file: 2024-02-29-05-43-38_TSWD185_446667_15.jpg - Max correlation value: 0.99\n",
      "Matched file: 2024-02-29-05-43-38_TSWD185_446667_16.jpg - Max correlation value: 0.99\n",
      "Matched file: 2024-02-29-05-43-38_TSWD185_446667_17.jpg - Max correlation value: 0.99\n",
      "Matched file: 2024-02-29-05-43-38_TSWD185_446667_18.jpg - Max correlation value: 0.99\n",
      "Matched file: 2024-02-29-05-43-38_TSWD185_446667_19.jpg - Max correlation value: 0.99\n",
      "Matched file: 2024-02-29-05-43-38_TSWD185_446667_20.jpg - Max correlation value: 0.99\n",
      "Matched file: 2024-02-29-05-43-38_TSWD185_446667_5.jpg - Max correlation value: 0.99\n",
      "Matched file: 2024-02-29-05-43-38_TSWD185_446667_6.jpg - Max correlation value: 0.99\n",
      "Matched file: 2024-02-29-05-43-38_TSWD185_446667_7.jpg - Max correlation value: 0.99\n",
      "Matched file: 2024-02-29-05-43-38_TSWD185_446667_8.jpg - Max correlation value: 0.99\n",
      "Matched file: 2024-02-29-05-43-38_TSWD185_446667_9.jpg - Max correlation value: 0.99\n",
      "Matched file: 2024-02-29-06-02-03_TSWD185_446667_5.jpg - Max correlation value: 0.99\n",
      "Matched file: 2024-02-29-06-02-03_TSWD185_446667_6.jpg - Max correlation value: 0.99\n",
      "Matched file: 2024-02-29-06-02-03_TSWD185_446667_7.jpg - Max correlation value: 0.99\n",
      "Matched file: 2024-02-29-06-02-03_TSWD185_446667_8.jpg - Max correlation value: 0.99\n",
      "Error: The template image is larger than the target image.\n",
      "Matched file: 2024-02-29-13-41-43_TSWD186_474823_5.jpg - Max correlation value: 0.99\n",
      "Matched file: 2024-02-29-13-41-43_TSWD186_474823_6.jpg - Max correlation value: 0.99\n",
      "Matched file: 2024-02-29-13-41-43_TSWD186_474823_7.jpg - Max correlation value: 0.99\n",
      "Matched file: 2024-02-29-13-41-43_TSWD186_474823_8.jpg - Max correlation value: 0.99\n",
      "Error: The template image is larger than the target image.\n",
      "Matched file: 2024-03-01-02-39-05_TSWD185_468976_mp4_10.jpg - Max correlation value: 0.99\n",
      "Matched file: 2024-03-01-02-39-05_TSWD185_468976_mp4_11.jpg - Max correlation value: 0.99\n",
      "Matched file: 2024-03-01-02-39-05_TSWD185_468976_mp4_12.jpg - Max correlation value: 0.99\n",
      "Matched file: 2024-03-01-02-39-05_TSWD185_468976_mp4_13.jpg - Max correlation value: 0.99\n",
      "Matched file: 2024-03-01-02-39-05_TSWD185_468976_mp4_14.jpg - Max correlation value: 0.99\n",
      "Matched file: 2024-03-01-02-39-05_TSWD185_468976_mp4_15.jpg - Max correlation value: 0.99\n",
      "Matched file: 2024-03-01-02-39-05_TSWD185_468976_mp4_16.jpg - Max correlation value: 0.99\n",
      "Matched file: 2024-03-01-02-39-05_TSWD185_468976_mp4_17.jpg - Max correlation value: 0.99\n",
      "Matched file: 2024-03-01-02-39-05_TSWD185_468976_mp4_5.jpg - Max correlation value: 0.99\n",
      "Matched file: 2024-03-01-02-39-05_TSWD185_468976_mp4_6.jpg - Max correlation value: 0.99\n",
      "Matched file: 2024-03-01-02-39-05_TSWD185_468976_mp4_7.jpg - Max correlation value: 0.99\n",
      "Matched file: 2024-03-01-02-39-05_TSWD185_468976_mp4_8.jpg - Max correlation value: 0.99\n",
      "Matched file: 2024-03-01-02-39-05_TSWD185_468976_mp4_9.jpg - Max correlation value: 0.99\n",
      "Total files processed: 14804\n",
      "Matched files: 101\n",
      "Copied files to output folder: 101\n"
     ]
    }
   ],
   "source": [
    "# Iterate over the files in the target folder\n",
    "for filename in os.listdir(target_folder):\n",
    "    if filename.endswith('.jpg'):\n",
    "        total_files += 1\n",
    "        \n",
    "        # Load the target image\n",
    "        target_path = os.path.join(target_folder, filename)\n",
    "        target = cv2.imread(target_path, cv2.IMREAD_GRAYSCALE)\n",
    "\n",
    "        # Check the sizes of the images\n",
    "        template_height, template_width = template.shape\n",
    "        target_height, target_width = target.shape\n",
    "\n",
    "        # Ensure that the template is not larger than the target in both dimensions\n",
    "        if template_height > target_height or template_width > target_width:\n",
    "            print(\"Error: The template image is larger than the target image.\")\n",
    "        else:\n",
    "            # Perform template matching\n",
    "            result = cv2.matchTemplate(target, template, cv2.TM_CCOEFF_NORMED)\n",
    "            min_val, max_val, min_loc, max_loc = cv2.minMaxLoc(result)\n",
    "        \n",
    "            # Check if the template is found in the target image\n",
    "            if max_val >= 0.99:  # Adjust the threshold as needed\n",
    "                matched_files += 1\n",
    "            \n",
    "                # Copy the matched file to the output folder\n",
    "                output_path = os.path.join(output_folder, filename)\n",
    "                shutil.copy(target_path, output_path)\n",
    "\n",
    "                # Display the matched file name and its max_val\n",
    "                print(f\"Matched file: {filename} - Max correlation value: {max_val:.2f}\")\n",
    "\n",
    "# Print the summary report\n",
    "print(f\"Total files processed: {total_files}\")\n",
    "print(f\"Matched files: {matched_files}\")\n",
    "print(f\"Copied files to output folder: {matched_files}\")"
   ]
  },
  {
   "cell_type": "code",
   "execution_count": null,
   "id": "a9757abb-eb4a-40bd-a329-0214ae55c9a0",
   "metadata": {},
   "outputs": [],
   "source": []
  }
 ],
 "metadata": {
  "kernelspec": {
   "display_name": "Python 3 (ipykernel)",
   "language": "python",
   "name": "python3"
  },
  "language_info": {
   "codemirror_mode": {
    "name": "ipython",
    "version": 3
   },
   "file_extension": ".py",
   "mimetype": "text/x-python",
   "name": "python",
   "nbconvert_exporter": "python",
   "pygments_lexer": "ipython3",
   "version": "3.8.19"
  }
 },
 "nbformat": 4,
 "nbformat_minor": 5
}
